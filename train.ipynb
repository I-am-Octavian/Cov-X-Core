{
  "cells": [
    {
      "cell_type": "code",
      "execution_count": 1,
      "id": "initial_id",
      "metadata": {
        "collapsed": true,
        "ExecuteTime": {
          "end_time": "2023-10-16T15:47:01.299600300Z",
          "start_time": "2023-10-16T15:46:58.249381600Z"
        },
        "id": "initial_id"
      },
      "outputs": [],
      "source": [
        "import tensorflow as tf\n",
        "import numpy as np\n",
        "import pandas as pd"
      ]
    },
    {
      "cell_type": "code",
      "source": [
        "from google.colab import drive\n",
        "drive.mount('/content/drive')"
      ],
      "metadata": {
        "colab": {
          "base_uri": "https://localhost:8080/"
        },
        "id": "SbFhiX-djuzm",
        "outputId": "d2144b14-14e2-455c-fce8-372cab641f7d"
      },
      "id": "SbFhiX-djuzm",
      "execution_count": 2,
      "outputs": [
        {
          "output_type": "stream",
          "name": "stdout",
          "text": [
            "Mounted at /content/drive\n"
          ]
        }
      ]
    },
    {
      "cell_type": "code",
      "execution_count": 3,
      "outputs": [],
      "source": [
        "from tensorflow.keras.preprocessing.image import ImageDataGenerator\n",
        "from tensorflow.keras.optimizers import Adam\n",
        "from tensorflow.keras.utils import to_categorical\n",
        "from sklearn.model_selection import train_test_split\n",
        "from sklearn.model_selection import KFold\n",
        "from sklearn.metrics import classification_report\n",
        "from sklearn.metrics import confusion_matrix\n",
        "from imutils import paths\n",
        "import random\n",
        "import matplotlib.pyplot as plt\n",
        "import matplotlib.image as mpimg\n",
        "import openpyxl"
      ],
      "metadata": {
        "ExecuteTime": {
          "end_time": "2023-10-16T15:47:03.047817900Z",
          "start_time": "2023-10-16T15:47:01.298601100Z"
        },
        "id": "f72fa0afe74ff1ac"
      },
      "id": "f72fa0afe74ff1ac"
    },
    {
      "cell_type": "code",
      "execution_count": 4,
      "outputs": [],
      "source": [
        "from tensorflow.keras import datasets, layers, models"
      ],
      "metadata": {
        "ExecuteTime": {
          "end_time": "2023-10-16T15:47:03.063311700Z",
          "start_time": "2023-10-16T15:47:03.049391400Z"
        },
        "id": "163cb49f2c23e583"
      },
      "id": "163cb49f2c23e583"
    },
    {
      "cell_type": "code",
      "execution_count": 5,
      "outputs": [],
      "source": [
        "import os"
      ],
      "metadata": {
        "ExecuteTime": {
          "end_time": "2023-10-16T15:47:03.086477200Z",
          "start_time": "2023-10-16T15:47:03.064361400Z"
        },
        "id": "6042932ee68adb70"
      },
      "id": "6042932ee68adb70"
    },
    {
      "cell_type": "code",
      "execution_count": 6,
      "outputs": [
        {
          "output_type": "stream",
          "name": "stdout",
          "text": [
            "Num GPUs Available:  1\n"
          ]
        }
      ],
      "source": [
        "print(\"Num GPUs Available: \", len(tf.config.list_physical_devices('GPU')))"
      ],
      "metadata": {
        "ExecuteTime": {
          "end_time": "2023-10-16T15:47:03.100030200Z",
          "start_time": "2023-10-16T15:47:03.079739300Z"
        },
        "colab": {
          "base_uri": "https://localhost:8080/"
        },
        "id": "63e264daf995ed4d",
        "outputId": "9bef54a6-1db0-4e00-af03-1ddbdfbc94c6"
      },
      "id": "63e264daf995ed4d"
    },
    {
      "cell_type": "code",
      "execution_count": 7,
      "outputs": [
        {
          "output_type": "stream",
          "name": "stdout",
          "text": [
            "Found 7252 files belonging to 2 classes.\n"
          ]
        }
      ],
      "source": [
        "dataset = tf.keras.preprocessing.image_dataset_from_directory(\n",
        "    directory=\"/content/drive/MyDrive/Dataset/Data\",\n",
        "    labels=\"inferred\",\n",
        "    label_mode=\"int\",\n",
        "    class_names=[\"COV\", \"NORM\"],\n",
        "    batch_size=14, # Prev 32\n",
        "    image_size=(299, 299),\n",
        "    shuffle=True,\n",
        "    seed=42,\n",
        ")"
      ],
      "metadata": {
        "ExecuteTime": {
          "end_time": "2023-10-11T10:30:35.005221200Z",
          "start_time": "2023-10-11T10:30:34.191656600Z"
        },
        "colab": {
          "base_uri": "https://localhost:8080/"
        },
        "id": "a5c276f6f73bfd31",
        "outputId": "60995f3e-b445-4b12-9bf5-eaa2cca51fd2"
      },
      "id": "a5c276f6f73bfd31"
    },
    {
      "cell_type": "code",
      "source": [
        "DATASET_SIZE = 518 # Prev 227\n",
        "\n",
        "train_size = int(0.7 * DATASET_SIZE)\n",
        "val_size = int(0.15 * DATASET_SIZE)\n",
        "test_size = int(0.15 * DATASET_SIZE)\n",
        "\n",
        "train_dataset = dataset.take(train_size)\n",
        "test_dataset = dataset.skip(train_size)\n",
        "val_dataset = test_dataset.skip(val_size)\n",
        "test_dataset = test_dataset.take(test_size)"
      ],
      "metadata": {
        "id": "oyz3zabDwaFL"
      },
      "id": "oyz3zabDwaFL",
      "execution_count": 8,
      "outputs": []
    },
    {
      "cell_type": "code",
      "source": [
        "# val_ds = tf.keras.preprocessing.image_dataset_from_directory(\n",
        "#     directory=\"/content/drive/MyDrive/Dataset/Data\",\n",
        "#     labels=\"inferred\",\n",
        "#     label_mode=\"int\",\n",
        "#     class_names=[\"COV\", \"NORM\"],\n",
        "#     batch_size=32,\n",
        "#     image_size=(299, 299),\n",
        "#     shuffle=True,\n",
        "#     seed=42,\n",
        "# )"
      ],
      "metadata": {
        "id": "ESwW3xLSkr9f"
      },
      "id": "ESwW3xLSkr9f",
      "execution_count": 9,
      "outputs": []
    },
    {
      "cell_type": "code",
      "execution_count": 10,
      "outputs": [],
      "source": [
        "model = models.Sequential()\n",
        "model.add(layers.Conv2D(64, (3, 3), activation='relu', input_shape=(299, 299, 3))) # Write 1 instead of 3\n",
        "model.add(layers.MaxPooling2D((2, 2)))\n",
        "model.add(layers.Conv2D(64, (3, 3), activation='relu'))\n",
        "model.add(layers.MaxPooling2D((2, 2)))\n",
        "model.add(layers.Conv2D(128, (3, 3), activation='relu'))\n",
        "model.add(layers.MaxPooling2D((2, 2)))\n",
        "model.add(layers.Conv2D(128, (3, 3), activation='relu'))\n",
        "model.add(layers.MaxPooling2D((2, 2)))\n",
        "model.add(layers.Conv2D(256, (3, 3), activation='relu'))\n",
        "# model.add(layers.MaxPooling2D((2, 2)))\n",
        "# model.add(layers.Conv2D(256, (3, 3), activation='relu'))"
      ],
      "metadata": {
        "ExecuteTime": {
          "end_time": "2023-10-11T10:30:45.249730500Z",
          "start_time": "2023-10-11T10:30:45.183036900Z"
        },
        "id": "fa04bfca984e0b7f"
      },
      "id": "fa04bfca984e0b7f"
    },
    {
      "cell_type": "code",
      "execution_count": 11,
      "outputs": [
        {
          "output_type": "stream",
          "name": "stdout",
          "text": [
            "Model: \"sequential\"\n",
            "_________________________________________________________________\n",
            " Layer (type)                Output Shape              Param #   \n",
            "=================================================================\n",
            " conv2d (Conv2D)             (None, 297, 297, 64)      1792      \n",
            "                                                                 \n",
            " max_pooling2d (MaxPooling2  (None, 148, 148, 64)      0         \n",
            " D)                                                              \n",
            "                                                                 \n",
            " conv2d_1 (Conv2D)           (None, 146, 146, 64)      36928     \n",
            "                                                                 \n",
            " max_pooling2d_1 (MaxPoolin  (None, 73, 73, 64)        0         \n",
            " g2D)                                                            \n",
            "                                                                 \n",
            " conv2d_2 (Conv2D)           (None, 71, 71, 128)       73856     \n",
            "                                                                 \n",
            " max_pooling2d_2 (MaxPoolin  (None, 35, 35, 128)       0         \n",
            " g2D)                                                            \n",
            "                                                                 \n",
            " conv2d_3 (Conv2D)           (None, 33, 33, 128)       147584    \n",
            "                                                                 \n",
            " max_pooling2d_3 (MaxPoolin  (None, 16, 16, 128)       0         \n",
            " g2D)                                                            \n",
            "                                                                 \n",
            " conv2d_4 (Conv2D)           (None, 14, 14, 256)       295168    \n",
            "                                                                 \n",
            "=================================================================\n",
            "Total params: 555328 (2.12 MB)\n",
            "Trainable params: 555328 (2.12 MB)\n",
            "Non-trainable params: 0 (0.00 Byte)\n",
            "_________________________________________________________________\n"
          ]
        }
      ],
      "source": [
        "model.summary()"
      ],
      "metadata": {
        "ExecuteTime": {
          "end_time": "2023-10-11T10:30:47.644904Z",
          "start_time": "2023-10-11T10:30:47.605788400Z"
        },
        "colab": {
          "base_uri": "https://localhost:8080/"
        },
        "id": "272abf34ff55cddf",
        "outputId": "fbaa2673-2ac8-445f-83d6-f07a88a140fb"
      },
      "id": "272abf34ff55cddf"
    },
    {
      "cell_type": "code",
      "execution_count": 12,
      "outputs": [],
      "source": [
        "model.add(layers.Flatten())\n",
        "model.add(layers.Dense(256, activation='relu')) # Was 128\n",
        "model.add(layers.Dropout(0.1))\n",
        "model.add(layers.Dense(128, activation='relu')) # Was 64\n",
        "model.add(layers.Dropout(0.2))\n",
        "model.add(layers.Dense(2, activation='softmax'))"
      ],
      "metadata": {
        "ExecuteTime": {
          "end_time": "2023-10-11T10:31:03.808571500Z",
          "start_time": "2023-10-11T10:31:03.595214900Z"
        },
        "id": "dafd3c52830507ee"
      },
      "id": "dafd3c52830507ee"
    },
    {
      "cell_type": "code",
      "source": [
        "model.summary()"
      ],
      "metadata": {
        "colab": {
          "base_uri": "https://localhost:8080/"
        },
        "id": "Xr8CqM-rImtJ",
        "outputId": "66896f85-da35-4aec-eded-eecfc1b06213"
      },
      "id": "Xr8CqM-rImtJ",
      "execution_count": 13,
      "outputs": [
        {
          "output_type": "stream",
          "name": "stdout",
          "text": [
            "Model: \"sequential\"\n",
            "_________________________________________________________________\n",
            " Layer (type)                Output Shape              Param #   \n",
            "=================================================================\n",
            " conv2d (Conv2D)             (None, 297, 297, 64)      1792      \n",
            "                                                                 \n",
            " max_pooling2d (MaxPooling2  (None, 148, 148, 64)      0         \n",
            " D)                                                              \n",
            "                                                                 \n",
            " conv2d_1 (Conv2D)           (None, 146, 146, 64)      36928     \n",
            "                                                                 \n",
            " max_pooling2d_1 (MaxPoolin  (None, 73, 73, 64)        0         \n",
            " g2D)                                                            \n",
            "                                                                 \n",
            " conv2d_2 (Conv2D)           (None, 71, 71, 128)       73856     \n",
            "                                                                 \n",
            " max_pooling2d_2 (MaxPoolin  (None, 35, 35, 128)       0         \n",
            " g2D)                                                            \n",
            "                                                                 \n",
            " conv2d_3 (Conv2D)           (None, 33, 33, 128)       147584    \n",
            "                                                                 \n",
            " max_pooling2d_3 (MaxPoolin  (None, 16, 16, 128)       0         \n",
            " g2D)                                                            \n",
            "                                                                 \n",
            " conv2d_4 (Conv2D)           (None, 14, 14, 256)       295168    \n",
            "                                                                 \n",
            " flatten (Flatten)           (None, 50176)             0         \n",
            "                                                                 \n",
            " dense (Dense)               (None, 256)               12845312  \n",
            "                                                                 \n",
            " dropout (Dropout)           (None, 256)               0         \n",
            "                                                                 \n",
            " dense_1 (Dense)             (None, 128)               32896     \n",
            "                                                                 \n",
            " dropout_1 (Dropout)         (None, 128)               0         \n",
            "                                                                 \n",
            " dense_2 (Dense)             (None, 2)                 258       \n",
            "                                                                 \n",
            "=================================================================\n",
            "Total params: 13433794 (51.25 MB)\n",
            "Trainable params: 13433794 (51.25 MB)\n",
            "Non-trainable params: 0 (0.00 Byte)\n",
            "_________________________________________________________________\n"
          ]
        }
      ]
    },
    {
      "cell_type": "code",
      "execution_count": 14,
      "outputs": [],
      "source": [
        "model.compile(optimizer='adam',\n",
        "              loss=tf.keras.losses.SparseCategoricalCrossentropy(from_logits=True),\n",
        "              metrics=['accuracy'])"
      ],
      "metadata": {
        "ExecuteTime": {
          "end_time": "2023-10-11T10:40:22.760191500Z",
          "start_time": "2023-10-11T10:31:51.297216300Z"
        },
        "id": "7d60012fbcb6c816"
      },
      "id": "7d60012fbcb6c816"
    },
    {
      "cell_type": "code",
      "execution_count": 15,
      "outputs": [
        {
          "output_type": "stream",
          "name": "stdout",
          "text": [
            "Epoch 1/13\n"
          ]
        },
        {
          "output_type": "stream",
          "name": "stderr",
          "text": [
            "/usr/local/lib/python3.10/dist-packages/keras/src/backend.py:5729: UserWarning: \"`sparse_categorical_crossentropy` received `from_logits=True`, but the `output` argument was produced by a Softmax activation and thus does not represent logits. Was this intended?\n",
            "  output, from_logits = _get_logits(\n"
          ]
        },
        {
          "output_type": "stream",
          "name": "stdout",
          "text": [
            "362/362 [==============================] - 678s 2s/step - loss: 1.0814 - accuracy: 0.7313 - val_loss: 0.5025 - val_accuracy: 0.7541\n",
            "Epoch 2/13\n",
            "362/362 [==============================] - 45s 124ms/step - loss: 0.3443 - accuracy: 0.8654 - val_loss: 0.3756 - val_accuracy: 0.8481\n",
            "Epoch 3/13\n",
            "362/362 [==============================] - 45s 123ms/step - loss: 0.2900 - accuracy: 0.8867 - val_loss: 0.2876 - val_accuracy: 0.8843\n",
            "Epoch 4/13\n",
            "362/362 [==============================] - 44s 121ms/step - loss: 0.2543 - accuracy: 0.8980 - val_loss: 0.4014 - val_accuracy: 0.8626\n",
            "Epoch 5/13\n",
            "362/362 [==============================] - 45s 123ms/step - loss: 0.2000 - accuracy: 0.9221 - val_loss: 0.4491 - val_accuracy: 0.8644\n",
            "Epoch 6/13\n",
            "362/362 [==============================] - 44s 122ms/step - loss: 0.1720 - accuracy: 0.9371 - val_loss: 0.2357 - val_accuracy: 0.9177\n",
            "Epoch 7/13\n",
            "362/362 [==============================] - 45s 123ms/step - loss: 0.1614 - accuracy: 0.9396 - val_loss: 0.2403 - val_accuracy: 0.9250\n",
            "Epoch 8/13\n",
            "362/362 [==============================] - 65s 179ms/step - loss: 0.1225 - accuracy: 0.9578 - val_loss: 0.3625 - val_accuracy: 0.8852\n",
            "Epoch 9/13\n",
            "362/362 [==============================] - 45s 125ms/step - loss: 0.1196 - accuracy: 0.9574 - val_loss: 0.2692 - val_accuracy: 0.9259\n",
            "Epoch 10/13\n",
            "362/362 [==============================] - 43s 119ms/step - loss: 0.1113 - accuracy: 0.9607 - val_loss: 0.3043 - val_accuracy: 0.9042\n",
            "Epoch 11/13\n",
            "362/362 [==============================] - 44s 122ms/step - loss: 0.0734 - accuracy: 0.9716 - val_loss: 0.5398 - val_accuracy: 0.9168\n",
            "Epoch 12/13\n",
            "362/362 [==============================] - 44s 119ms/step - loss: 0.1130 - accuracy: 0.9615 - val_loss: 0.3658 - val_accuracy: 0.8689\n",
            "Epoch 13/13\n",
            "362/362 [==============================] - 45s 123ms/step - loss: 0.1780 - accuracy: 0.9481 - val_loss: 0.3251 - val_accuracy: 0.9168\n"
          ]
        }
      ],
      "source": [
        "history = model.fit(train_dataset, validation_data = val_dataset, epochs=13)"
      ],
      "metadata": {
        "ExecuteTime": {
          "end_time": "2023-10-11T10:54:52.183891Z",
          "start_time": "2023-10-11T10:54:52.166019500Z"
        },
        "colab": {
          "base_uri": "https://localhost:8080/"
        },
        "id": "7b0a4c7be06472bd",
        "outputId": "7af62b34-89bc-4fdc-bf33-fab4eb8947be"
      },
      "id": "7b0a4c7be06472bd"
    },
    {
      "cell_type": "code",
      "source": [
        "plt.plot(history.history['accuracy'], label='accuracy')\n",
        "plt.plot(history.history['val_accuracy'], label = 'val_accuracy')\n",
        "plt.xlabel('Epoch')\n",
        "plt.ylabel('Accuracy')\n",
        "plt.ylim([0.5, 1])\n",
        "plt.legend(loc='lower right')"
      ],
      "metadata": {
        "colab": {
          "base_uri": "https://localhost:8080/",
          "height": 472
        },
        "id": "pt6TT1KuRKSc",
        "outputId": "7e6bd1f6-abfb-41c5-8e4a-3838b05b460c"
      },
      "id": "pt6TT1KuRKSc",
      "execution_count": 16,
      "outputs": [
        {
          "output_type": "execute_result",
          "data": {
            "text/plain": [
              "<matplotlib.legend.Legend at 0x7e4fb7fbf9d0>"
            ]
          },
          "metadata": {},
          "execution_count": 16
        },
        {
          "output_type": "display_data",
          "data": {
            "text/plain": [
              "<Figure size 640x480 with 1 Axes>"
            ],
            "image/png": "[encoded data removed]"
          },
          "metadata": {}
        }
      ]
    },
    {
      "cell_type": "markdown",
      "source": [
        "Accuracy = TP+TN / Total"
      ],
      "metadata": {
        "id": "gaffLTLZSNPw"
      },
      "id": "gaffLTLZSNPw"
    },
    {
      "cell_type": "code",
      "source": [
        "loss, accuracy= model.evaluate(test_dataset, verbose=2)\n",
        "\n",
        "print(f'loss = {loss}')\n",
        "print(f'accuracy = {accuracy}')"
      ],
      "metadata": {
        "colab": {
          "base_uri": "https://localhost:8080/"
        },
        "id": "MCp5L4ZQyBj2",
        "outputId": "1d1d9b7e-03db-456f-b725-8fa20bd89654"
      },
      "id": "MCp5L4ZQyBj2",
      "execution_count": 17,
      "outputs": [
        {
          "output_type": "stream",
          "name": "stdout",
          "text": [
            "77/77 - 17s - loss: 0.3450 - accuracy: 0.9174 - 17s/epoch - 219ms/step\n",
            "loss = 0.3450120687484741\n",
            "accuracy = 0.9174396991729736\n"
          ]
        }
      ]
    },
    {
      "cell_type": "markdown",
      "source": [
        "COVID 19 Dataset\n",
        "Tiny ML\n",
        "Tensorflow Lite\n",
        "Mobile App\n",
        "Web App\n",
        "Multiclass classification(Pne, TB)\n",
        "use CT\n",
        "\n",
        "\n"
      ],
      "metadata": {
        "id": "hdV31LOUNXPX"
      },
      "id": "hdV31LOUNXPX"
    },
    {
      "cell_type": "code",
      "source": [
        "PATH = \"/content/drive/MyDrive/ML_Model/model.tflite\"\n",
        "converter = tf.lite.TFLiteConverter.from_keras_model(model)\n",
        "tflite_model = converter.convert()\n",
        "# Save the model.\n",
        "with open(PATH, 'wb') as f:\n",
        "  f.write(tflite_model)\n"
      ],
      "metadata": {
        "id": "bbLHfXBG6J05"
      },
      "id": "bbLHfXBG6J05",
      "execution_count": 18,
      "outputs": []
    },
    {
      "cell_type": "code",
      "source": [],
      "metadata": {
        "id": "i26Pe6w5pI2K"
      },
      "id": "i26Pe6w5pI2K",
      "execution_count": 18,
      "outputs": []
    }
  ],
  "metadata": {
    "kernelspec": {
      "display_name": "Python 3",
      "name": "python3"
    },
    "language_info": {
      "codemirror_mode": {
        "name": "ipython",
        "version": 2
      },
      "file_extension": ".py",
      "mimetype": "text/x-python",
      "name": "python",
      "nbconvert_exporter": "python",
      "pygments_lexer": "ipython2",
      "version": "2.7.6"
    },
    "colab": {
      "provenance": [],
      "gpuType": "T4"
    },
    "accelerator": "GPU"
  },
  "nbformat": 4,
  "nbformat_minor": 5
}