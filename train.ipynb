{
  "cells": [
    {
      "cell_type": "code",
      "execution_count": null,
      "id": "initial_id",
      "metadata": {
        "collapsed": true,
        "ExecuteTime": {
          "end_time": "2023-10-16T15:47:01.299600300Z",
          "start_time": "2023-10-16T15:46:58.249381600Z"
        },
        "id": "initial_id"
      },
      "outputs": [],
      "source": [
        "import tensorflow as tf\n",
        "import numpy as np\n",
        "import pandas as pd"
      ]
    },
    {
      "cell_type": "code",
      "source": [
        "from google.colab import drive\n",
        "drive.mount('/content/drive')"
      ],
      "metadata": {
        "colab": {
          "base_uri": "https://localhost:8080/"
        },
        "id": "SbFhiX-djuzm",
        "outputId": "8c35adfc-bca8-4642-ce94-f0f520deb0fe"
      },
      "id": "SbFhiX-djuzm",
      "execution_count": null,
      "outputs": [
        {
          "output_type": "stream",
          "name": "stdout",
          "text": [
            "Mounted at /content/drive\n"
          ]
        }
      ]
    },
    {
      "cell_type": "code",
      "execution_count": null,
      "outputs": [],
      "source": [
        "from tensorflow.keras.preprocessing.image import ImageDataGenerator\n",
        "from tensorflow.keras.optimizers import Adam\n",
        "from tensorflow.keras.utils import to_categorical\n",
        "from sklearn.model_selection import train_test_split\n",
        "from sklearn.model_selection import KFold\n",
        "from sklearn.metrics import classification_report\n",
        "from sklearn.metrics import confusion_matrix\n",
        "from imutils import paths\n",
        "import random\n",
        "import matplotlib.pyplot as plt\n",
        "import matplotlib.image as mpimg\n",
        "import openpyxl"
      ],
      "metadata": {
        "ExecuteTime": {
          "end_time": "2023-10-16T15:47:03.047817900Z",
          "start_time": "2023-10-16T15:47:01.298601100Z"
        },
        "id": "f72fa0afe74ff1ac"
      },
      "id": "f72fa0afe74ff1ac"
    },
    {
      "cell_type": "code",
      "execution_count": null,
      "outputs": [],
      "source": [
        "from tensorflow.keras import datasets, layers, models"
      ],
      "metadata": {
        "ExecuteTime": {
          "end_time": "2023-10-16T15:47:03.063311700Z",
          "start_time": "2023-10-16T15:47:03.049391400Z"
        },
        "id": "163cb49f2c23e583"
      },
      "id": "163cb49f2c23e583"
    },
    {
      "cell_type": "code",
      "execution_count": null,
      "outputs": [],
      "source": [
        "import os"
      ],
      "metadata": {
        "ExecuteTime": {
          "end_time": "2023-10-16T15:47:03.086477200Z",
          "start_time": "2023-10-16T15:47:03.064361400Z"
        },
        "id": "6042932ee68adb70"
      },
      "id": "6042932ee68adb70"
    },
    {
      "cell_type": "code",
      "execution_count": null,
      "outputs": [
        {
          "output_type": "stream",
          "name": "stdout",
          "text": [
            "Num GPUs Available:  1\n"
          ]
        }
      ],
      "source": [
        "print(\"Num GPUs Available: \", len(tf.config.list_physical_devices('GPU')))"
      ],
      "metadata": {
        "ExecuteTime": {
          "end_time": "2023-10-16T15:47:03.100030200Z",
          "start_time": "2023-10-16T15:47:03.079739300Z"
        },
        "colab": {
          "base_uri": "https://localhost:8080/"
        },
        "id": "63e264daf995ed4d",
        "outputId": "d8125a0a-c45f-41b5-99e3-211a70679456"
      },
      "id": "63e264daf995ed4d"
    },
    {
      "cell_type": "code",
      "execution_count": null,
      "outputs": [
        {
          "output_type": "stream",
          "name": "stdout",
          "text": [
            "Found 7252 files belonging to 2 classes.\n"
          ]
        }
      ],
      "source": [
        "dataset = tf.keras.preprocessing.image_dataset_from_directory(\n",
        "    directory=\"/content/drive/MyDrive/Dataset/Data\",\n",
        "    labels=\"inferred\",\n",
        "    label_mode=\"int\",\n",
        "    class_names=[\"COV\", \"NORM\"],\n",
        "    batch_size=14, # Prev 32\n",
        "    image_size=(299, 299),\n",
        "    shuffle=True,\n",
        "    seed=42,\n",
        ")"
      ],
      "metadata": {
        "ExecuteTime": {
          "end_time": "2023-10-11T10:30:35.005221200Z",
          "start_time": "2023-10-11T10:30:34.191656600Z"
        },
        "colab": {
          "base_uri": "https://localhost:8080/"
        },
        "id": "a5c276f6f73bfd31",
        "outputId": "9ebac928-1e7d-40e9-93b8-a28c7efe748d"
      },
      "id": "a5c276f6f73bfd31"
    },
    {
      "cell_type": "code",
      "source": [
        "DATASET_SIZE = 518 # Prev 227\n",
        "\n",
        "train_size = int(0.7 * DATASET_SIZE)\n",
        "val_size = int(0.15 * DATASET_SIZE)\n",
        "test_size = int(0.15 * DATASET_SIZE)\n",
        "\n",
        "train_dataset = dataset.take(train_size)\n",
        "test_dataset = dataset.skip(train_size)\n",
        "val_dataset = test_dataset.skip(val_size)\n",
        "test_dataset = test_dataset.take(test_size)"
      ],
      "metadata": {
        "id": "oyz3zabDwaFL"
      },
      "id": "oyz3zabDwaFL",
      "execution_count": null,
      "outputs": []
    },
    {
      "cell_type": "code",
      "source": [
        "# val_ds = tf.keras.preprocessing.image_dataset_from_directory(\n",
        "#     directory=\"/content/drive/MyDrive/Dataset/Data\",\n",
        "#     labels=\"inferred\",\n",
        "#     label_mode=\"int\",\n",
        "#     class_names=[\"COV\", \"NORM\"],\n",
        "#     batch_size=32,\n",
        "#     image_size=(299, 299),\n",
        "#     shuffle=True,\n",
        "#     seed=42,\n",
        "# )"
      ],
      "metadata": {
        "id": "ESwW3xLSkr9f"
      },
      "id": "ESwW3xLSkr9f",
      "execution_count": null,
      "outputs": []
    },
    {
      "cell_type": "code",
      "execution_count": null,
      "outputs": [],
      "source": [
        "model = models.Sequential()\n",
        "model.add(layers.Conv2D(64, (3, 3), activation='relu', input_shape=(299, 299, 3))) # Write 1 instead of 3\n",
        "model.add(layers.MaxPooling2D((2, 2)))\n",
        "model.add(layers.Conv2D(64, (3, 3), activation='relu'))\n",
        "model.add(layers.MaxPooling2D((2, 2)))\n",
        "model.add(layers.Conv2D(128, (3, 3), activation='relu'))\n",
        "model.add(layers.MaxPooling2D((2, 2)))\n",
        "model.add(layers.Conv2D(128, (3, 3), activation='relu'))\n",
        "model.add(layers.MaxPooling2D((2, 2)))\n",
        "model.add(layers.Conv2D(256, (3, 3), activation='relu'))\n",
        "# model.add(layers.MaxPooling2D((2, 2)))\n",
        "# model.add(layers.Conv2D(256, (3, 3), activation='relu'))"
      ],
      "metadata": {
        "ExecuteTime": {
          "end_time": "2023-10-11T10:30:45.249730500Z",
          "start_time": "2023-10-11T10:30:45.183036900Z"
        },
        "id": "fa04bfca984e0b7f"
      },
      "id": "fa04bfca984e0b7f"
    },
    {
      "cell_type": "code",
      "execution_count": null,
      "outputs": [
        {
          "output_type": "stream",
          "name": "stdout",
          "text": [
            "Model: \"sequential\"\n",
            "_________________________________________________________________\n",
            " Layer (type)                Output Shape              Param #   \n",
            "=================================================================\n",
            " conv2d (Conv2D)             (None, 297, 297, 64)      1792      \n",
            "                                                                 \n",
            " max_pooling2d (MaxPooling2  (None, 148, 148, 64)      0         \n",
            " D)                                                              \n",
            "                                                                 \n",
            " conv2d_1 (Conv2D)           (None, 146, 146, 64)      36928     \n",
            "                                                                 \n",
            " max_pooling2d_1 (MaxPoolin  (None, 73, 73, 64)        0         \n",
            " g2D)                                                            \n",
            "                                                                 \n",
            " conv2d_2 (Conv2D)           (None, 71, 71, 128)       73856     \n",
            "                                                                 \n",
            " max_pooling2d_2 (MaxPoolin  (None, 35, 35, 128)       0         \n",
            " g2D)                                                            \n",
            "                                                                 \n",
            " conv2d_3 (Conv2D)           (None, 33, 33, 128)       147584    \n",
            "                                                                 \n",
            " max_pooling2d_3 (MaxPoolin  (None, 16, 16, 128)       0         \n",
            " g2D)                                                            \n",
            "                                                                 \n",
            " conv2d_4 (Conv2D)           (None, 14, 14, 256)       295168    \n",
            "                                                                 \n",
            "=================================================================\n",
            "Total params: 555328 (2.12 MB)\n",
            "Trainable params: 555328 (2.12 MB)\n",
            "Non-trainable params: 0 (0.00 Byte)\n",
            "_________________________________________________________________\n"
          ]
        }
      ],
      "source": [
        "model.summary()"
      ],
      "metadata": {
        "ExecuteTime": {
          "end_time": "2023-10-11T10:30:47.644904Z",
          "start_time": "2023-10-11T10:30:47.605788400Z"
        },
        "colab": {
          "base_uri": "https://localhost:8080/"
        },
        "id": "272abf34ff55cddf",
        "outputId": "962fbb29-b0dc-489a-d2f8-2e5a7e626a5d"
      },
      "id": "272abf34ff55cddf"
    },
    {
      "cell_type": "code",
      "execution_count": null,
      "outputs": [],
      "source": [
        "model.add(layers.Flatten())\n",
        "model.add(layers.Dense(256, activation='relu')) # Was 128\n",
        "model.add(layers.Dropout(0.1))\n",
        "model.add(layers.Dense(128, activation='relu')) # Was 64\n",
        "model.add(layers.Dropout(0.2))\n",
        "model.add(layers.Dense(2, activation='softmax'))"
      ],
      "metadata": {
        "ExecuteTime": {
          "end_time": "2023-10-11T10:31:03.808571500Z",
          "start_time": "2023-10-11T10:31:03.595214900Z"
        },
        "id": "dafd3c52830507ee"
      },
      "id": "dafd3c52830507ee"
    },
    {
      "cell_type": "code",
      "source": [
        "model.summary()"
      ],
      "metadata": {
        "colab": {
          "base_uri": "https://localhost:8080/"
        },
        "id": "Xr8CqM-rImtJ",
        "outputId": "aa4e8c4a-2045-4223-d4b7-65ed6245d598"
      },
      "id": "Xr8CqM-rImtJ",
      "execution_count": null,
      "outputs": [
        {
          "output_type": "stream",
          "name": "stdout",
          "text": [
            "Model: \"sequential\"\n",
            "_________________________________________________________________\n",
            " Layer (type)                Output Shape              Param #   \n",
            "=================================================================\n",
            " conv2d (Conv2D)             (None, 297, 297, 64)      1792      \n",
            "                                                                 \n",
            " max_pooling2d (MaxPooling2  (None, 148, 148, 64)      0         \n",
            " D)                                                              \n",
            "                                                                 \n",
            " conv2d_1 (Conv2D)           (None, 146, 146, 64)      36928     \n",
            "                                                                 \n",
            " max_pooling2d_1 (MaxPoolin  (None, 73, 73, 64)        0         \n",
            " g2D)                                                            \n",
            "                                                                 \n",
            " conv2d_2 (Conv2D)           (None, 71, 71, 128)       73856     \n",
            "                                                                 \n",
            " max_pooling2d_2 (MaxPoolin  (None, 35, 35, 128)       0         \n",
            " g2D)                                                            \n",
            "                                                                 \n",
            " conv2d_3 (Conv2D)           (None, 33, 33, 128)       147584    \n",
            "                                                                 \n",
            " max_pooling2d_3 (MaxPoolin  (None, 16, 16, 128)       0         \n",
            " g2D)                                                            \n",
            "                                                                 \n",
            " conv2d_4 (Conv2D)           (None, 14, 14, 256)       295168    \n",
            "                                                                 \n",
            " flatten (Flatten)           (None, 50176)             0         \n",
            "                                                                 \n",
            " dense (Dense)               (None, 256)               12845312  \n",
            "                                                                 \n",
            " dropout (Dropout)           (None, 256)               0         \n",
            "                                                                 \n",
            " dense_1 (Dense)             (None, 128)               32896     \n",
            "                                                                 \n",
            " dropout_1 (Dropout)         (None, 128)               0         \n",
            "                                                                 \n",
            " dense_2 (Dense)             (None, 2)                 258       \n",
            "                                                                 \n",
            "=================================================================\n",
            "Total params: 13433794 (51.25 MB)\n",
            "Trainable params: 13433794 (51.25 MB)\n",
            "Non-trainable params: 0 (0.00 Byte)\n",
            "_________________________________________________________________\n"
          ]
        }
      ]
    },
    {
      "cell_type": "code",
      "execution_count": null,
      "outputs": [],
      "source": [
        "model.compile(optimizer='adam',\n",
        "              loss=tf.keras.losses.SparseCategoricalCrossentropy(from_logits=True),\n",
        "              metrics=['accuracy'])"
      ],
      "metadata": {
        "ExecuteTime": {
          "end_time": "2023-10-11T10:40:22.760191500Z",
          "start_time": "2023-10-11T10:31:51.297216300Z"
        },
        "id": "7d60012fbcb6c816"
      },
      "id": "7d60012fbcb6c816"
    },
    {
      "cell_type": "code",
      "execution_count": null,
      "outputs": [
        {
          "output_type": "stream",
          "name": "stdout",
          "text": [
            "Epoch 1/15\n",
            "362/362 [==============================] - 853s 2s/step - loss: 1.5761 - accuracy: 0.7204 - val_loss: 0.4022 - val_accuracy: 0.8210\n",
            "Epoch 2/15\n",
            "362/362 [==============================] - 45s 123ms/step - loss: 0.3497 - accuracy: 0.8662 - val_loss: 0.2585 - val_accuracy: 0.8996\n",
            "Epoch 3/15\n",
            "362/362 [==============================] - 45s 123ms/step - loss: 0.2510 - accuracy: 0.9039 - val_loss: 0.2044 - val_accuracy: 0.9186\n",
            "Epoch 4/15\n",
            "362/362 [==============================] - 44s 122ms/step - loss: 0.1818 - accuracy: 0.9315 - val_loss: 0.2460 - val_accuracy: 0.9259\n",
            "Epoch 5/15\n",
            "362/362 [==============================] - 44s 120ms/step - loss: 0.1803 - accuracy: 0.9365 - val_loss: 0.2488 - val_accuracy: 0.9105\n",
            "Epoch 6/15\n",
            "362/362 [==============================] - 45s 124ms/step - loss: 0.1758 - accuracy: 0.9367 - val_loss: 0.2744 - val_accuracy: 0.9195\n",
            "Epoch 7/15\n",
            "362/362 [==============================] - 44s 121ms/step - loss: 0.3405 - accuracy: 0.8747 - val_loss: 0.2689 - val_accuracy: 0.8969\n",
            "Epoch 8/15\n",
            "362/362 [==============================] - 45s 125ms/step - loss: 0.2719 - accuracy: 0.8919 - val_loss: 0.2581 - val_accuracy: 0.9105\n",
            "Epoch 9/15\n",
            "362/362 [==============================] - 65s 180ms/step - loss: 0.1467 - accuracy: 0.9461 - val_loss: 0.3354 - val_accuracy: 0.9005\n",
            "Epoch 10/15\n",
            "362/362 [==============================] - 45s 123ms/step - loss: 0.0987 - accuracy: 0.9627 - val_loss: 0.3125 - val_accuracy: 0.9078\n",
            "Epoch 11/15\n",
            "362/362 [==============================] - 45s 123ms/step - loss: 0.0823 - accuracy: 0.9688 - val_loss: 0.3112 - val_accuracy: 0.9268\n",
            "Epoch 12/15\n",
            "362/362 [==============================] - 44s 121ms/step - loss: 0.0677 - accuracy: 0.9743 - val_loss: 0.3156 - val_accuracy: 0.9313\n",
            "Epoch 13/15\n",
            "362/362 [==============================] - 45s 124ms/step - loss: 0.0852 - accuracy: 0.9714 - val_loss: 0.3111 - val_accuracy: 0.9241\n",
            "Epoch 14/15\n",
            "362/362 [==============================] - 45s 123ms/step - loss: 0.0643 - accuracy: 0.9787 - val_loss: 0.5222 - val_accuracy: 0.9304\n",
            "Epoch 15/15\n",
            "362/362 [==============================] - 45s 124ms/step - loss: 0.1331 - accuracy: 0.9558 - val_loss: 0.3316 - val_accuracy: 0.8617\n"
          ]
        }
      ],
      "source": [
        "history = model.fit(train_dataset, validation_data = val_dataset, epochs=15)"
      ],
      "metadata": {
        "ExecuteTime": {
          "end_time": "2023-10-11T10:54:52.183891Z",
          "start_time": "2023-10-11T10:54:52.166019500Z"
        },
        "colab": {
          "base_uri": "https://localhost:8080/"
        },
        "id": "7b0a4c7be06472bd",
        "outputId": "44795fea-5584-4e1c-f8a0-8c435aacbd0d"
      },
      "id": "7b0a4c7be06472bd"
    },
    {
      "cell_type": "code",
      "source": [
        "plt.plot(history.history['accuracy'], label='accuracy')\n",
        "plt.plot(history.history['val_accuracy'], label = 'val_accuracy')\n",
        "plt.xlabel('Epoch')\n",
        "plt.ylabel('Accuracy')\n",
        "plt.ylim([0.5, 1])\n",
        "plt.legend(loc='lower right')"
      ],
      "metadata": {
        "colab": {
          "base_uri": "https://localhost:8080/",
          "height": 472
        },
        "id": "pt6TT1KuRKSc",
        "outputId": "e7bff137-1f8d-4798-a5fb-c721960c8b94"
      },
      "id": "pt6TT1KuRKSc",
      "execution_count": null,
      "outputs": [
        {
          "output_type": "execute_result",
          "data": {
            "text/plain": [
              "<matplotlib.legend.Legend at 0x7e1d7cdb8c10>"
            ]
          },
          "metadata": {},
          "execution_count": 16
        },
        {
          "output_type": "display_data",
          "data": {
            "text/plain": [
              "<Figure size 640x480 with 1 Axes>"
            ],
            "image/png": "[encoded data removed]"
          },
          "metadata": {}
        }
      ]
    },
    {
      "cell_type": "markdown",
      "source": [
        "Accuracy = TP+TN / Total"
      ],
      "metadata": {
        "id": "gaffLTLZSNPw"
      },
      "id": "gaffLTLZSNPw"
    },
    {
      "cell_type": "code",
      "source": [
        "loss, accuracy= model.evaluate(test_dataset, verbose=2)\n",
        "\n",
        "print(f'loss = {loss}')\n",
        "print(f'accuracy = {accuracy}')"
      ],
      "metadata": {
        "colab": {
          "base_uri": "https://localhost:8080/"
        },
        "id": "MCp5L4ZQyBj2",
        "outputId": "17608f17-a638-47d4-c45c-62ce017e9f7c"
      },
      "id": "MCp5L4ZQyBj2",
      "execution_count": null,
      "outputs": [
        {
          "output_type": "stream",
          "name": "stdout",
          "text": [
            "77/77 - 17s - loss: 0.3320 - accuracy: 0.8785 - 17s/epoch - 218ms/step\n",
            "loss = 0.3320445418357849\n",
            "accuracy = 0.8784786462783813\n"
          ]
        }
      ]
    },
    {
      "cell_type": "markdown",
      "source": [
        "COVID 19 Dataset\n",
        "Tiny ML\n",
        "Tensorflow Lite\n",
        "Mobile App\n",
        "Web App\n",
        "Multiclass classification(Pne, TB)\n",
        "use CT\n",
        "\n",
        "\n"
      ],
      "metadata": {
        "id": "hdV31LOUNXPX"
      },
      "id": "hdV31LOUNXPX"
    },
    {
      "cell_type": "code",
      "source": [
        "PATH = \"/content/drive/MyDrive/ML_Model/model.tflite\"\n",
        "converter = tf.lite.TFLiteConverter.from_keras_model(model)\n",
        "tflite_model = converter.convert()\n",
        "# Save the model.\n",
        "with open(PATH, 'wb') as f:\n",
        "  f.write(tflite_model)\n"
      ],
      "metadata": {
        "id": "bbLHfXBG6J05"
      },
      "id": "bbLHfXBG6J05",
      "execution_count": null,
      "outputs": []
    }
  ],
  "metadata": {
    "kernelspec": {
      "display_name": "Python 3",
      "name": "python3"
    },
    "language_info": {
      "codemirror_mode": {
        "name": "ipython",
        "version": 2
      },
      "file_extension": ".py",
      "mimetype": "text/x-python",
      "name": "python",
      "nbconvert_exporter": "python",
      "pygments_lexer": "ipython2",
      "version": "2.7.6"
    },
    "colab": {
      "provenance": [],
      "gpuType": "T4"
    },
    "accelerator": "GPU"
  },
  "nbformat": 4,
  "nbformat_minor": 5
}