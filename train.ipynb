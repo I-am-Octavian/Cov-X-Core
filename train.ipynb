{
  "cells": [
    {
      "cell_type": "code",
      "execution_count": 1,
      "id": "initial_id",
      "metadata": {
        "ExecuteTime": {
          "end_time": "2023-10-16T15:47:01.299600300Z",
          "start_time": "2023-10-16T15:46:58.249381600Z"
        },
        "collapsed": true,
        "id": "initial_id"
      },
      "outputs": [
        {
          "name": "stderr",
          "output_type": "stream",
          "text": [
            "2023-11-24 14:09:20.088547: E tensorflow/compiler/xla/stream_executor/cuda/cuda_dnn.cc:9342] Unable to register cuDNN factory: Attempting to register factory for plugin cuDNN when one has already been registered\n",
            "2023-11-24 14:09:20.088580: E tensorflow/compiler/xla/stream_executor/cuda/cuda_fft.cc:609] Unable to register cuFFT factory: Attempting to register factory for plugin cuFFT when one has already been registered\n",
            "2023-11-24 14:09:20.088617: E tensorflow/compiler/xla/stream_executor/cuda/cuda_blas.cc:1518] Unable to register cuBLAS factory: Attempting to register factory for plugin cuBLAS when one has already been registered\n",
            "2023-11-24 14:09:20.096485: I tensorflow/core/platform/cpu_feature_guard.cc:182] This TensorFlow binary is optimized to use available CPU instructions in performance-critical operations.\n",
            "To enable the following instructions: AVX2 FMA, in other operations, rebuild TensorFlow with the appropriate compiler flags.\n",
            "/usr/lib/python3/dist-packages/scipy/__init__.py:146: UserWarning: A NumPy version >=1.17.3 and <1.25.0 is required for this version of SciPy (detected version 1.26.2\n",
            "  warnings.warn(f\"A NumPy version >={np_minversion} and <{np_maxversion}\"\n"
          ]
        }
      ],
      "source": [
        "import tensorflow as tf\n",
        "import numpy as np\n",
        "import pandas as pd"
      ]
    },
    {
      "cell_type": "code",
      "execution_count": 2,
      "id": "f72fa0afe74ff1ac",
      "metadata": {
        "ExecuteTime": {
          "end_time": "2023-10-16T15:47:03.047817900Z",
          "start_time": "2023-10-16T15:47:01.298601100Z"
        },
        "id": "f72fa0afe74ff1ac"
      },
      "outputs": [],
      "source": [
        "from tensorflow.keras.preprocessing.image import ImageDataGenerator\n",
        "from tensorflow.keras.optimizers import Adam\n",
        "from tensorflow.keras.utils import to_categorical\n",
        "import random\n",
        "import matplotlib.pyplot as plt\n",
        "import matplotlib.image as mpimg"
      ]
    },
    {
      "cell_type": "code",
      "execution_count": 3,
      "id": "163cb49f2c23e583",
      "metadata": {
        "ExecuteTime": {
          "end_time": "2023-10-16T15:47:03.063311700Z",
          "start_time": "2023-10-16T15:47:03.049391400Z"
        },
        "id": "163cb49f2c23e583"
      },
      "outputs": [],
      "source": [
        "from tensorflow.keras import datasets, layers, models"
      ]
    },
    {
      "cell_type": "code",
      "execution_count": 4,
      "id": "6042932ee68adb70",
      "metadata": {
        "ExecuteTime": {
          "end_time": "2023-10-16T15:47:03.086477200Z",
          "start_time": "2023-10-16T15:47:03.064361400Z"
        },
        "id": "6042932ee68adb70"
      },
      "outputs": [],
      "source": [
        "import os"
      ]
    },
    {
      "cell_type": "code",
      "execution_count": 5,
      "id": "63e264daf995ed4d",
      "metadata": {
        "ExecuteTime": {
          "end_time": "2023-10-16T15:47:03.100030200Z",
          "start_time": "2023-10-16T15:47:03.079739300Z"
        },
        "colab": {
          "base_uri": "https://localhost:8080/"
        },
        "id": "63e264daf995ed4d",
        "outputId": "9bef54a6-1db0-4e00-af03-1ddbdfbc94c6"
      },
      "outputs": [
        {
          "name": "stdout",
          "output_type": "stream",
          "text": [
            "Num GPUs Available:  1\n"
          ]
        },
        {
          "name": "stderr",
          "output_type": "stream",
          "text": [
            "2023-11-24 14:09:22.158502: I tensorflow/compiler/xla/stream_executor/cuda/cuda_gpu_executor.cc:894] successful NUMA node read from SysFS had negative value (-1), but there must be at least one NUMA node, so returning NUMA node zero. See more at https://github.com/torvalds/linux/blob/v6.0/Documentation/ABI/testing/sysfs-bus-pci#L344-L355\n",
            "2023-11-24 14:09:22.166258: I tensorflow/compiler/xla/stream_executor/cuda/cuda_gpu_executor.cc:894] successful NUMA node read from SysFS had negative value (-1), but there must be at least one NUMA node, so returning NUMA node zero. See more at https://github.com/torvalds/linux/blob/v6.0/Documentation/ABI/testing/sysfs-bus-pci#L344-L355\n",
            "2023-11-24 14:09:22.166821: I tensorflow/compiler/xla/stream_executor/cuda/cuda_gpu_executor.cc:894] successful NUMA node read from SysFS had negative value (-1), but there must be at least one NUMA node, so returning NUMA node zero. See more at https://github.com/torvalds/linux/blob/v6.0/Documentation/ABI/testing/sysfs-bus-pci#L344-L355\n"
          ]
        }
      ],
      "source": [
        "print(\"Num GPUs Available: \", len(tf.config.list_physical_devices('GPU')))"
      ]
    },
    {
      "cell_type": "code",
      "execution_count": 6,
      "id": "a5c276f6f73bfd31",
      "metadata": {
        "ExecuteTime": {
          "end_time": "2023-10-11T10:30:35.005221200Z",
          "start_time": "2023-10-11T10:30:34.191656600Z"
        },
        "colab": {
          "base_uri": "https://localhost:8080/"
        },
        "id": "a5c276f6f73bfd31",
        "outputId": "60995f3e-b445-4b12-9bf5-eaa2cca51fd2"
      },
      "outputs": [
        {
          "name": "stdout",
          "output_type": "stream",
          "text": [
            "Found 7232 files belonging to 2 classes.\n"
          ]
        },
        {
          "name": "stderr",
          "output_type": "stream",
          "text": [
            "2023-11-24 14:09:22.379232: I tensorflow/compiler/xla/stream_executor/cuda/cuda_gpu_executor.cc:894] successful NUMA node read from SysFS had negative value (-1), but there must be at least one NUMA node, so returning NUMA node zero. See more at https://github.com/torvalds/linux/blob/v6.0/Documentation/ABI/testing/sysfs-bus-pci#L344-L355\n",
            "2023-11-24 14:09:22.379688: I tensorflow/compiler/xla/stream_executor/cuda/cuda_gpu_executor.cc:894] successful NUMA node read from SysFS had negative value (-1), but there must be at least one NUMA node, so returning NUMA node zero. See more at https://github.com/torvalds/linux/blob/v6.0/Documentation/ABI/testing/sysfs-bus-pci#L344-L355\n",
            "2023-11-24 14:09:22.380030: I tensorflow/compiler/xla/stream_executor/cuda/cuda_gpu_executor.cc:894] successful NUMA node read from SysFS had negative value (-1), but there must be at least one NUMA node, so returning NUMA node zero. See more at https://github.com/torvalds/linux/blob/v6.0/Documentation/ABI/testing/sysfs-bus-pci#L344-L355\n",
            "2023-11-24 14:09:22.475204: I tensorflow/compiler/xla/stream_executor/cuda/cuda_gpu_executor.cc:894] successful NUMA node read from SysFS had negative value (-1), but there must be at least one NUMA node, so returning NUMA node zero. See more at https://github.com/torvalds/linux/blob/v6.0/Documentation/ABI/testing/sysfs-bus-pci#L344-L355\n",
            "2023-11-24 14:09:22.475412: I tensorflow/compiler/xla/stream_executor/cuda/cuda_gpu_executor.cc:894] successful NUMA node read from SysFS had negative value (-1), but there must be at least one NUMA node, so returning NUMA node zero. See more at https://github.com/torvalds/linux/blob/v6.0/Documentation/ABI/testing/sysfs-bus-pci#L344-L355\n",
            "2023-11-24 14:09:22.475608: I tensorflow/compiler/xla/stream_executor/cuda/cuda_gpu_executor.cc:894] successful NUMA node read from SysFS had negative value (-1), but there must be at least one NUMA node, so returning NUMA node zero. See more at https://github.com/torvalds/linux/blob/v6.0/Documentation/ABI/testing/sysfs-bus-pci#L344-L355\n",
            "2023-11-24 14:09:22.475785: I tensorflow/core/common_runtime/gpu/gpu_device.cc:1886] Created device /job:localhost/replica:0/task:0/device:GPU:0 with 2795 MB memory:  -> device: 0, name: NVIDIA GeForce GTX 1650, pci bus id: 0000:01:00.0, compute capability: 7.5\n"
          ]
        }
      ],
      "source": [
        "dataset = tf.keras.preprocessing.image_dataset_from_directory(\n",
        "    directory=\"./Data\",\n",
        "    labels=\"inferred\",\n",
        "    label_mode=\"int\",\n",
        "    class_names=[\"COV\", \"NORM\"],\n",
        "    batch_size=14, # Prev 32\n",
        "    image_size=(299, 299),\n",
        "    shuffle=True,\n",
        "    seed=42,\n",
        ")"
      ]
    },
    {
      "cell_type": "code",
      "execution_count": 7,
      "id": "oyz3zabDwaFL",
      "metadata": {
        "id": "oyz3zabDwaFL"
      },
      "outputs": [],
      "source": [
        "DATASET_SIZE = 518 # Prev 227\n",
        "\n",
        "train_size = int(0.7 * DATASET_SIZE)\n",
        "val_size = int(0.15 * DATASET_SIZE)\n",
        "test_size = int(0.15 * DATASET_SIZE)\n",
        "\n",
        "train_dataset = dataset.take(train_size)\n",
        "test_dataset = dataset.skip(train_size)\n",
        "val_dataset = test_dataset.skip(val_size)\n",
        "test_dataset = test_dataset.take(test_size)"
      ]
    },
    {
      "cell_type": "code",
      "execution_count": 8,
      "id": "ESwW3xLSkr9f",
      "metadata": {
        "id": "ESwW3xLSkr9f"
      },
      "outputs": [],
      "source": [
        "# val_ds = tf.keras.preprocessing.image_dataset_from_directory(\n",
        "#     directory=\"/content/drive/MyDrive/Dataset/Data\",\n",
        "#     labels=\"inferred\",\n",
        "#     label_mode=\"int\",\n",
        "#     class_names=[\"COV\", \"NORM\"],\n",
        "#     batch_size=32,\n",
        "#     image_size=(299, 299),\n",
        "#     shuffle=True,\n",
        "#     seed=42,\n",
        "# )"
      ]
    },
    {
      "cell_type": "code",
      "execution_count": 9,
      "id": "fa04bfca984e0b7f",
      "metadata": {
        "ExecuteTime": {
          "end_time": "2023-10-11T10:30:45.249730500Z",
          "start_time": "2023-10-11T10:30:45.183036900Z"
        },
        "id": "fa04bfca984e0b7f"
      },
      "outputs": [],
      "source": [
        "model = models.Sequential()\n",
        "model.add(layers.Conv2D(64, (3, 3), activation='relu', input_shape=(299, 299, 3))) # Write 1 instead of 3\n",
        "model.add(layers.MaxPooling2D((2, 2)))\n",
        "model.add(layers.Conv2D(64, (3, 3), activation='relu'))\n",
        "model.add(layers.MaxPooling2D((2, 2)))\n",
        "model.add(layers.Conv2D(128, (3, 3), activation='relu'))\n",
        "model.add(layers.MaxPooling2D((2, 2)))\n",
        "model.add(layers.Conv2D(128, (3, 3), activation='relu'))\n",
        "model.add(layers.MaxPooling2D((2, 2)))\n",
        "model.add(layers.Conv2D(256, (3, 3), activation='relu'))\n",
        "# model.add(layers.MaxPooling2D((2, 2)))\n",
        "# model.add(layers.Conv2D(256, (3, 3), activation='relu'))"
      ]
    },
    {
      "cell_type": "code",
      "execution_count": 10,
      "id": "272abf34ff55cddf",
      "metadata": {
        "ExecuteTime": {
          "end_time": "2023-10-11T10:30:47.644904Z",
          "start_time": "2023-10-11T10:30:47.605788400Z"
        },
        "colab": {
          "base_uri": "https://localhost:8080/"
        },
        "id": "272abf34ff55cddf",
        "outputId": "fbaa2673-2ac8-445f-83d6-f07a88a140fb"
      },
      "outputs": [
        {
          "name": "stdout",
          "output_type": "stream",
          "text": [
            "Model: \"sequential\"\n",
            "_________________________________________________________________\n",
            " Layer (type)                Output Shape              Param #   \n",
            "=================================================================\n",
            " conv2d (Conv2D)             (None, 297, 297, 64)      1792      \n",
            "                                                                 \n",
            " max_pooling2d (MaxPooling2  (None, 148, 148, 64)      0         \n",
            " D)                                                              \n",
            "                                                                 \n",
            " conv2d_1 (Conv2D)           (None, 146, 146, 64)      36928     \n",
            "                                                                 \n",
            " max_pooling2d_1 (MaxPoolin  (None, 73, 73, 64)        0         \n",
            " g2D)                                                            \n",
            "                                                                 \n",
            " conv2d_2 (Conv2D)           (None, 71, 71, 128)       73856     \n",
            "                                                                 \n",
            " max_pooling2d_2 (MaxPoolin  (None, 35, 35, 128)       0         \n",
            " g2D)                                                            \n",
            "                                                                 \n",
            " conv2d_3 (Conv2D)           (None, 33, 33, 128)       147584    \n",
            "                                                                 \n",
            " max_pooling2d_3 (MaxPoolin  (None, 16, 16, 128)       0         \n",
            " g2D)                                                            \n",
            "                                                                 \n",
            " conv2d_4 (Conv2D)           (None, 14, 14, 256)       295168    \n",
            "                                                                 \n",
            "=================================================================\n",
            "Total params: 555328 (2.12 MB)\n",
            "Trainable params: 555328 (2.12 MB)\n",
            "Non-trainable params: 0 (0.00 Byte)\n",
            "_________________________________________________________________\n"
          ]
        }
      ],
      "source": [
        "model.summary()"
      ]
    },
    {
      "cell_type": "code",
      "execution_count": 11,
      "id": "dafd3c52830507ee",
      "metadata": {
        "ExecuteTime": {
          "end_time": "2023-10-11T10:31:03.808571500Z",
          "start_time": "2023-10-11T10:31:03.595214900Z"
        },
        "id": "dafd3c52830507ee"
      },
      "outputs": [],
      "source": [
        "model.add(layers.Flatten())\n",
        "model.add(layers.Dense(256, activation='relu')) # Was 128\n",
        "model.add(layers.Dropout(0.1))\n",
        "model.add(layers.Dense(128, activation='relu')) # Was 64\n",
        "model.add(layers.Dropout(0.2))\n",
        "model.add(layers.Dense(1, activation='sigmoid'))"
      ]
    },
    {
      "cell_type": "code",
      "execution_count": 12,
      "id": "Xr8CqM-rImtJ",
      "metadata": {
        "colab": {
          "base_uri": "https://localhost:8080/"
        },
        "id": "Xr8CqM-rImtJ",
        "outputId": "66896f85-da35-4aec-eded-eecfc1b06213"
      },
      "outputs": [
        {
          "name": "stdout",
          "output_type": "stream",
          "text": [
            "Model: \"sequential\"\n",
            "_________________________________________________________________\n",
            " Layer (type)                Output Shape              Param #   \n",
            "=================================================================\n",
            " conv2d (Conv2D)             (None, 297, 297, 64)      1792      \n",
            "                                                                 \n",
            " max_pooling2d (MaxPooling2  (None, 148, 148, 64)      0         \n",
            " D)                                                              \n",
            "                                                                 \n",
            " conv2d_1 (Conv2D)           (None, 146, 146, 64)      36928     \n",
            "                                                                 \n",
            " max_pooling2d_1 (MaxPoolin  (None, 73, 73, 64)        0         \n",
            " g2D)                                                            \n",
            "                                                                 \n",
            " conv2d_2 (Conv2D)           (None, 71, 71, 128)       73856     \n",
            "                                                                 \n",
            " max_pooling2d_2 (MaxPoolin  (None, 35, 35, 128)       0         \n",
            " g2D)                                                            \n",
            "                                                                 \n",
            " conv2d_3 (Conv2D)           (None, 33, 33, 128)       147584    \n",
            "                                                                 \n",
            " max_pooling2d_3 (MaxPoolin  (None, 16, 16, 128)       0         \n",
            " g2D)                                                            \n",
            "                                                                 \n",
            " conv2d_4 (Conv2D)           (None, 14, 14, 256)       295168    \n",
            "                                                                 \n",
            " flatten (Flatten)           (None, 50176)             0         \n",
            "                                                                 \n",
            " dense (Dense)               (None, 256)               12845312  \n",
            "                                                                 \n",
            " dropout (Dropout)           (None, 256)               0         \n",
            "                                                                 \n",
            " dense_1 (Dense)             (None, 128)               32896     \n",
            "                                                                 \n",
            " dropout_1 (Dropout)         (None, 128)               0         \n",
            "                                                                 \n",
            " dense_2 (Dense)             (None, 1)                 129       \n",
            "                                                                 \n",
            "=================================================================\n",
            "Total params: 13433665 (51.25 MB)\n",
            "Trainable params: 13433665 (51.25 MB)\n",
            "Non-trainable params: 0 (0.00 Byte)\n",
            "_________________________________________________________________\n"
          ]
        }
      ],
      "source": [
        "model.summary()"
      ]
    },
    {
      "cell_type": "code",
      "execution_count": 13,
      "id": "7d60012fbcb6c816",
      "metadata": {
        "ExecuteTime": {
          "end_time": "2023-10-11T10:40:22.760191500Z",
          "start_time": "2023-10-11T10:31:51.297216300Z"
        },
        "id": "7d60012fbcb6c816"
      },
      "outputs": [],
      "source": [
        "model.compile(optimizer='adam',\n",
        "              loss=tf.keras.losses.BinaryCrossentropy(from_logits=True),\n",
        "              metrics=['accuracy'])"
      ]
    },
    {
      "cell_type": "code",
      "execution_count": 14,
      "id": "7b0a4c7be06472bd",
      "metadata": {
        "ExecuteTime": {
          "end_time": "2023-10-11T10:54:52.183891Z",
          "start_time": "2023-10-11T10:54:52.166019500Z"
        },
        "colab": {
          "base_uri": "https://localhost:8080/"
        },
        "id": "7b0a4c7be06472bd",
        "outputId": "7af62b34-89bc-4fdc-bf33-fab4eb8947be"
      },
      "outputs": [
        {
          "name": "stdout",
          "output_type": "stream",
          "text": [
            "Epoch 1/13\n"
          ]
        },
        {
          "name": "stderr",
          "output_type": "stream",
          "text": [
            "/home/adi/.local/lib/python3.10/site-packages/keras/src/backend.py:5820: UserWarning: \"`binary_crossentropy` received `from_logits=True`, but the `output` argument was produced by a Sigmoid activation and thus does not represent logits. Was this intended?\n",
            "  output, from_logits = _get_logits(\n",
            "2023-11-24 14:09:40.144323: I tensorflow/compiler/xla/stream_executor/cuda/cuda_dnn.cc:442] Loaded cuDNN version 8700\n",
            "2023-11-24 14:09:40.765440: W tensorflow/tsl/framework/bfc_allocator.cc:296] Allocator (GPU_0_bfc) ran out of memory trying to allocate 2.47GiB with freed_by_count=0. The caller indicates that this is not a failure, but this may mean that there could be performance gains if more memory were available.\n",
            "2023-11-24 14:09:42.141827: I tensorflow/compiler/xla/service/service.cc:168] XLA service 0x7f7b7840a810 initialized for platform CUDA (this does not guarantee that XLA will be used). Devices:\n",
            "2023-11-24 14:09:42.141853: I tensorflow/compiler/xla/service/service.cc:176]   StreamExecutor device (0): NVIDIA GeForce GTX 1650, Compute Capability 7.5\n",
            "2023-11-24 14:09:42.145313: I tensorflow/compiler/mlir/tensorflow/utils/dump_mlir_util.cc:269] disabling MLIR crash reproducer, set env var `MLIR_CRASH_REPRODUCER_DIRECTORY` to enable.\n",
            "2023-11-24 14:09:42.218422: I ./tensorflow/compiler/jit/device_compiler.h:186] Compiled cluster using XLA!  This line is logged at most once for the lifetime of the process.\n",
            "2023-11-24 14:09:43.804956: W tensorflow/tsl/framework/bfc_allocator.cc:296] Allocator (GPU_0_bfc) ran out of memory trying to allocate 2.47GiB with freed_by_count=0. The caller indicates that this is not a failure, but this may mean that there could be performance gains if more memory were available.\n",
            "2023-11-24 14:09:43.850554: W tensorflow/tsl/framework/bfc_allocator.cc:296] Allocator (GPU_0_bfc) ran out of memory trying to allocate 2.47GiB with freed_by_count=0. The caller indicates that this is not a failure, but this may mean that there could be performance gains if more memory were available.\n",
            "2023-11-24 14:09:44.175991: W tensorflow/tsl/framework/bfc_allocator.cc:296] Allocator (GPU_0_bfc) ran out of memory trying to allocate 2.10GiB with freed_by_count=0. The caller indicates that this is not a failure, but this may mean that there could be performance gains if more memory were available.\n",
            "2023-11-24 14:09:44.176028: W tensorflow/tsl/framework/bfc_allocator.cc:296] Allocator (GPU_0_bfc) ran out of memory trying to allocate 2.10GiB with freed_by_count=0. The caller indicates that this is not a failure, but this may mean that there could be performance gains if more memory were available.\n"
          ]
        },
        {
          "name": "stdout",
          "output_type": "stream",
          "text": [
            "362/362 [==============================] - 41s 98ms/step - loss: 1.0866 - accuracy: 0.5744 - val_loss: 0.6842 - val_accuracy: 0.5396\n",
            "Epoch 2/13\n",
            "362/362 [==============================] - 35s 95ms/step - loss: 0.7559 - accuracy: 0.5331 - val_loss: 0.6907 - val_accuracy: 0.5157\n",
            "Epoch 3/13\n",
            "362/362 [==============================] - 34s 95ms/step - loss: 0.6944 - accuracy: 0.5239 - val_loss: 0.7028 - val_accuracy: 0.5175\n",
            "Epoch 4/13\n",
            "362/362 [==============================] - 34s 95ms/step - loss: 0.6373 - accuracy: 0.6371 - val_loss: 0.5001 - val_accuracy: 0.8122\n",
            "Epoch 5/13\n",
            "362/362 [==============================] - 35s 95ms/step - loss: 0.5447 - accuracy: 0.7512 - val_loss: 0.5823 - val_accuracy: 0.6906\n",
            "Epoch 6/13\n",
            "362/362 [==============================] - 35s 95ms/step - loss: 0.4797 - accuracy: 0.7849 - val_loss: 0.4222 - val_accuracy: 0.8149\n",
            "Epoch 7/13\n",
            "362/362 [==============================] - 34s 95ms/step - loss: 0.3453 - accuracy: 0.8548 - val_loss: 0.2903 - val_accuracy: 0.8803\n",
            "Epoch 8/13\n",
            "362/362 [==============================] - 34s 95ms/step - loss: 0.2853 - accuracy: 0.8877 - val_loss: 0.2867 - val_accuracy: 0.8785\n",
            "Epoch 9/13\n",
            "362/362 [==============================] - 34s 95ms/step - loss: 0.2291 - accuracy: 0.9094 - val_loss: 0.2489 - val_accuracy: 0.9015\n",
            "Epoch 10/13\n",
            "362/362 [==============================] - 35s 95ms/step - loss: 0.2354 - accuracy: 0.9059 - val_loss: 0.2287 - val_accuracy: 0.9088\n",
            "Epoch 11/13\n",
            "362/362 [==============================] - 34s 95ms/step - loss: 0.2038 - accuracy: 0.9199 - val_loss: 0.2287 - val_accuracy: 0.9052\n",
            "Epoch 12/13\n",
            "362/362 [==============================] - 34s 95ms/step - loss: 0.1973 - accuracy: 0.9266 - val_loss: 0.2510 - val_accuracy: 0.9006\n",
            "Epoch 13/13\n",
            "362/362 [==============================] - 34s 95ms/step - loss: 0.1759 - accuracy: 0.9365 - val_loss: 0.2370 - val_accuracy: 0.9116\n"
          ]
        }
      ],
      "source": [
        "history = model.fit(train_dataset, validation_data = val_dataset, epochs=13)"
      ]
    },
    {
      "cell_type": "code",
      "execution_count": 15,
      "id": "pt6TT1KuRKSc",
      "metadata": {
        "colab": {
          "base_uri": "https://localhost:8080/",
          "height": 472
        },
        "id": "pt6TT1KuRKSc",
        "outputId": "7e6bd1f6-abfb-41c5-8e4a-3838b05b460c"
      },
      "outputs": [
        {
          "data": {
            "text/plain": [
              "<matplotlib.legend.Legend at 0x7f7be854baf0>"
            ]
          },
          "execution_count": 15,
          "metadata": {},
          "output_type": "execute_result"
        },
        {
          "data": {
            "image/png": "[encoded data removed]",
            "text/plain": [
              "<Figure size 640x480 with 1 Axes>"
            ]
          },
          "metadata": {},
          "output_type": "display_data"
        }
      ],
      "source": [
        "plt.plot(history.history['accuracy'], label='accuracy')\n",
        "plt.plot(history.history['val_accuracy'], label = 'val_accuracy')\n",
        "plt.xlabel('Epoch')\n",
        "plt.ylabel('Accuracy')\n",
        "plt.ylim([0.5, 1])\n",
        "plt.legend(loc='lower right')"
      ]
    },
    {
      "cell_type": "markdown",
      "id": "gaffLTLZSNPw",
      "metadata": {
        "id": "gaffLTLZSNPw"
      },
      "source": [
        "Accuracy = TP+TN / Total"
      ]
    },
    {
      "cell_type": "code",
      "execution_count": 16,
      "id": "MCp5L4ZQyBj2",
      "metadata": {
        "colab": {
          "base_uri": "https://localhost:8080/"
        },
        "id": "MCp5L4ZQyBj2",
        "outputId": "1d1d9b7e-03db-456f-b725-8fa20bd89654"
      },
      "outputs": [
        {
          "name": "stdout",
          "output_type": "stream",
          "text": [
            "77/77 - 3s - loss: 0.2400 - accuracy: 0.8998 - 3s/epoch - 43ms/step\n",
            "loss = 0.23998504877090454\n",
            "accuracy = 0.8998144865036011\n"
          ]
        }
      ],
      "source": [
        "loss, accuracy= model.evaluate(test_dataset, verbose=2)\n",
        "\n",
        "print(f'loss = {loss}')\n",
        "print(f'accuracy = {accuracy}')"
      ]
    },
    {
      "cell_type": "markdown",
      "id": "hdV31LOUNXPX",
      "metadata": {
        "id": "hdV31LOUNXPX"
      },
      "source": [
        "COVID 19 Dataset\n",
        "Tiny ML\n",
        "Tensorflow Lite\n",
        "Mobile App\n",
        "Web App\n",
        "Multiclass classification(Pne, TB)\n",
        "use CT\n",
        "\n",
        "\n"
      ]
    },
    {
      "cell_type": "code",
      "execution_count": 17,
      "id": "bbLHfXBG6J05",
      "metadata": {
        "id": "bbLHfXBG6J05"
      },
      "outputs": [
        {
          "name": "stdout",
          "output_type": "stream",
          "text": [
            "INFO:tensorflow:Assets written to: /tmp/tmpbf61of51/assets\n"
          ]
        },
        {
          "name": "stderr",
          "output_type": "stream",
          "text": [
            "INFO:tensorflow:Assets written to: /tmp/tmpbf61of51/assets\n",
            "2023-11-24 14:17:53.824548: W tensorflow/compiler/mlir/lite/python/tf_tfl_flatbuffer_helpers.cc:378] Ignored output_format.\n",
            "2023-11-24 14:17:53.824570: W tensorflow/compiler/mlir/lite/python/tf_tfl_flatbuffer_helpers.cc:381] Ignored drop_control_dependency.\n",
            "2023-11-24 14:17:53.829966: I tensorflow/cc/saved_model/reader.cc:83] Reading SavedModel from: /tmp/tmpbf61of51\n",
            "2023-11-24 14:17:53.831628: I tensorflow/cc/saved_model/reader.cc:51] Reading meta graph with tags { serve }\n",
            "2023-11-24 14:17:53.831641: I tensorflow/cc/saved_model/reader.cc:146] Reading SavedModel debug info (if present) from: /tmp/tmpbf61of51\n",
            "2023-11-24 14:17:53.834300: I tensorflow/compiler/mlir/mlir_graph_optimization_pass.cc:382] MLIR V1 optimization pass is not enabled\n",
            "2023-11-24 14:17:53.835481: I tensorflow/cc/saved_model/loader.cc:233] Restoring SavedModel bundle.\n",
            "2023-11-24 14:17:53.980801: I tensorflow/cc/saved_model/loader.cc:217] Running initialization op on SavedModel bundle at path: /tmp/tmpbf61of51\n",
            "2023-11-24 14:17:53.996692: I tensorflow/cc/saved_model/loader.cc:316] SavedModel load for tags { serve }; Status: success: OK. Took 166728 microseconds.\n"
          ]
        }
      ],
      "source": [
        "PATH = \"./Model/model.tflite\"\n",
        "converter = tf.lite.TFLiteConverter.from_keras_model(model)\n",
        "tflite_model = converter.convert()\n",
        "# Save the model.\n",
        "with open(PATH, 'wb') as f:\n",
        "  f.write(tflite_model)\n"
      ]
    }
  ],
  "metadata": {
    "accelerator": "GPU",
    "colab": {
      "gpuType": "T4",
      "provenance": []
    },
    "kernelspec": {
      "display_name": "Python 3",
      "name": "python3"
    },
    "language_info": {
      "codemirror_mode": {
        "name": "ipython",
        "version": 3
      },
      "file_extension": ".py",
      "mimetype": "text/x-python",
      "name": "python",
      "nbconvert_exporter": "python",
      "pygments_lexer": "ipython3",
      "version": "3.10.12"
    }
  },
  "nbformat": 4,
  "nbformat_minor": 5
}
